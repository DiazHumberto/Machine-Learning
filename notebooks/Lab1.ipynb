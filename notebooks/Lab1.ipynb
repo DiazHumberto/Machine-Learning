{
 "cells": [
  {
   "cell_type": "markdown",
   "id": "11bb36aa-cde3-4a87-9879-81c6b7fbb4f8",
   "metadata": {},
   "source": [
    "# <center> Lab Exercise 1: Linear Regression\n",
    "<center> Humberto Díaz <br>\n",
    "The University of Winnipeg <br>\n",
    "DIT 54110 AIW01: Introduction to Machine Learning <br>\n",
    "Muhammad Shahin PhD. <br>\n",
    "July 22, 2025."
   ]
  },
  {
   "cell_type": "code",
   "execution_count": null,
   "id": "c16684dc-83cf-4c1c-b1af-aec1d77b28c6",
   "metadata": {},
   "outputs": [],
   "source": []
  },
  {
   "cell_type": "code",
   "execution_count": 1,
   "id": "0d106d7f-28c4-42f6-8382-262ce4de49cd",
   "metadata": {},
   "outputs": [],
   "source": [
    "import numpy as np\n",
    "import pandas as pd\n",
    "import matplotlib.pyplot as plt"
   ]
  },
  {
   "cell_type": "code",
   "execution_count": null,
   "id": "956079ac-35ab-4d2c-a43d-4fafa04a76a1",
   "metadata": {},
   "outputs": [],
   "source": []
  }
 ],
 "metadata": {
  "kernelspec": {
   "display_name": "Python 3 (ipykernel)",
   "language": "python",
   "name": "python3"
  },
  "language_info": {
   "codemirror_mode": {
    "name": "ipython",
    "version": 3
   },
   "file_extension": ".py",
   "mimetype": "text/x-python",
   "name": "python",
   "nbconvert_exporter": "python",
   "pygments_lexer": "ipython3",
   "version": "3.13.3"
  }
 },
 "nbformat": 4,
 "nbformat_minor": 5
}
